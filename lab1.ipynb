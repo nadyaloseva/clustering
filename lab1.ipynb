{
 "cells": [
  {
   "cell_type": "markdown",
   "metadata": {},
   "source": [
    "### Лабораторная работа 1-3 \n",
    "### Лосева Н. Вариант 2. Economics of Cities"
   ]
  },
  {
   "cell_type": "code",
   "execution_count": 29,
   "metadata": {},
   "outputs": [],
   "source": [
    "#  Активируем библиотеки\n",
    "\n",
    "import numpy as np\n",
    "import pandas as pd\n",
    "import os\n",
    "from scipy import stats\n",
    "import seaborn as sns\n",
    "import matplotlib.pyplot as plt\n",
    "from sklearn.preprocessing import StandardScaler\n",
    "from sklearn.cluster import KMeans\n",
    "from sklearn.cluster import DBSCAN\n",
    "from scipy.cluster.hierarchy import dendrogram, linkage, fcluster\n",
    "from sklearn import metrics\n"
   ]
  },
  {
   "cell_type": "code",
   "execution_count": 2,
   "metadata": {},
   "outputs": [],
   "source": [
    "#  Задаем рабочую папку\n",
    "os.chdir(\"C:/Users/User/Desktop/python_analysis/lab1_ierarh/\")\n",
    "\n",
    "#  Импорт данных\n",
    "df = pd.read_csv(\"Econom_Cities_data.csv\", sep=\";\", index_col='City')"
   ]
  },
  {
   "cell_type": "markdown",
   "metadata": {},
   "source": [
    "**Предобработка данных**"
   ]
  },
  {
   "cell_type": "code",
   "execution_count": 3,
   "metadata": {},
   "outputs": [
    {
     "data": {
      "text/plain": [
       "Work      0\n",
       "Price     0\n",
       "Salary    0\n",
       "dtype: int64"
      ]
     },
     "execution_count": 3,
     "metadata": {},
     "output_type": "execute_result"
    }
   ],
   "source": [
    "# Проверка нулевых значений \n",
    "df.isnull().sum()"
   ]
  },
  {
   "cell_type": "code",
   "execution_count": 4,
   "metadata": {},
   "outputs": [
    {
     "data": {
      "text/plain": [
       "Work       int64\n",
       "Price     object\n",
       "Salary    object\n",
       "dtype: object"
      ]
     },
     "execution_count": 4,
     "metadata": {},
     "output_type": "execute_result"
    }
   ],
   "source": [
    "#Проверка типов данных столбцов\n",
    "df.dtypes"
   ]
  },
  {
   "cell_type": "code",
   "execution_count": 5,
   "metadata": {},
   "outputs": [],
   "source": [
    "# Замена запятых на точки, чтобы преобразовать столбцы в числовые значения\n",
    "df['Work'] = df['Work'].replace(',', '.', regex=True)  \n",
    "df['Price'] = df['Price'].replace(',', '.', regex=True)\n",
    "df['Salary'] = df['Salary'].replace(',', '.', regex=True)\n",
    "\n",
    "# Преобразования в числовые значения \n",
    "df['Work'] = pd.to_numeric(df['Work'], errors='coerce')  \n",
    "df['Price'] = pd.to_numeric(df['Price'], errors='coerce')\n",
    "df['Salary'] = pd.to_numeric(df['Salary'], errors='coerce') "
   ]
  },
  {
   "cell_type": "code",
   "execution_count": 6,
   "metadata": {},
   "outputs": [
    {
     "data": {
      "text/html": [
       "<div>\n",
       "<style scoped>\n",
       "    .dataframe tbody tr th:only-of-type {\n",
       "        vertical-align: middle;\n",
       "    }\n",
       "\n",
       "    .dataframe tbody tr th {\n",
       "        vertical-align: top;\n",
       "    }\n",
       "\n",
       "    .dataframe thead th {\n",
       "        text-align: right;\n",
       "    }\n",
       "</style>\n",
       "<table border=\"1\" class=\"dataframe\">\n",
       "  <thead>\n",
       "    <tr style=\"text-align: right;\">\n",
       "      <th></th>\n",
       "      <th>Work</th>\n",
       "      <th>Price</th>\n",
       "      <th>Salary</th>\n",
       "    </tr>\n",
       "  </thead>\n",
       "  <tbody>\n",
       "    <tr>\n",
       "      <th>count</th>\n",
       "      <td>48.000000</td>\n",
       "      <td>48.000000</td>\n",
       "      <td>48.000000</td>\n",
       "    </tr>\n",
       "    <tr>\n",
       "      <th>mean</th>\n",
       "      <td>1384.958333</td>\n",
       "      <td>68.860417</td>\n",
       "      <td>-378.727083</td>\n",
       "    </tr>\n",
       "    <tr>\n",
       "      <th>std</th>\n",
       "      <td>2404.897007</td>\n",
       "      <td>21.784659</td>\n",
       "      <td>2027.338052</td>\n",
       "    </tr>\n",
       "    <tr>\n",
       "      <th>min</th>\n",
       "      <td>-9999.000000</td>\n",
       "      <td>30.300000</td>\n",
       "      <td>-9999.000000</td>\n",
       "    </tr>\n",
       "    <tr>\n",
       "      <th>25%</th>\n",
       "      <td>1740.750000</td>\n",
       "      <td>49.650000</td>\n",
       "      <td>12.250000</td>\n",
       "    </tr>\n",
       "    <tr>\n",
       "      <th>50%</th>\n",
       "      <td>1834.500000</td>\n",
       "      <td>70.500000</td>\n",
       "      <td>40.300000</td>\n",
       "    </tr>\n",
       "    <tr>\n",
       "      <th>75%</th>\n",
       "      <td>1972.750000</td>\n",
       "      <td>81.700000</td>\n",
       "      <td>58.700000</td>\n",
       "    </tr>\n",
       "    <tr>\n",
       "      <th>max</th>\n",
       "      <td>2375.000000</td>\n",
       "      <td>115.500000</td>\n",
       "      <td>100.000000</td>\n",
       "    </tr>\n",
       "  </tbody>\n",
       "</table>\n",
       "</div>"
      ],
      "text/plain": [
       "              Work       Price       Salary\n",
       "count    48.000000   48.000000    48.000000\n",
       "mean   1384.958333   68.860417  -378.727083\n",
       "std    2404.897007   21.784659  2027.338052\n",
       "min   -9999.000000   30.300000 -9999.000000\n",
       "25%    1740.750000   49.650000    12.250000\n",
       "50%    1834.500000   70.500000    40.300000\n",
       "75%    1972.750000   81.700000    58.700000\n",
       "max    2375.000000  115.500000   100.000000"
      ]
     },
     "execution_count": 6,
     "metadata": {},
     "output_type": "execute_result"
    }
   ],
   "source": [
    "# Просмотр описательной статистики датафрейма\n",
    "df.describe()"
   ]
  },
  {
   "cell_type": "markdown",
   "metadata": {},
   "source": [
    "Как видно из описательной статистика: \n",
    "- Переменные измеряются в разных единицах\n",
    "- Cтандартное отклонение для Work и Salary указывает на большую вариативность данных. Это может повлиять на кластеризацию.\n",
    "- Наличие выбросов (судя по минимальному значению Salary)\n",
    " \n",
    "Судя по написанным выше фактам стоит провести стандартизацию даннных, для устранения влияния различных шшкал и единиц измерения. Но перед этим нужно сделать прверку на выборсы и исключить их при необходимости. "
   ]
  },
  {
   "cell_type": "code",
   "execution_count": 20,
   "metadata": {},
   "outputs": [
    {
     "name": "stdout",
     "output_type": "stream",
     "text": [
      "Выбросы:\n",
      "         Work  Price  Salary  cluster\n",
      "City                                 \n",
      "Cairo   -9999   37.1 -9999.0        1\n",
      "Jakarta -9999   43.6 -9999.0        1\n"
     ]
    }
   ],
   "source": [
    "# Применение Z-score для поиска выбросов\n",
    "z_scores = np.abs(stats.zscore(df[['Work', 'Price', 'Salary']]))  # Рассчитываем z-оценки\n",
    "outliers = (z_scores > 3)  # Выбросы при |z| > 3\n",
    "\n",
    "# Вывод выбросов\n",
    "print('Выбросы:')\n",
    "print(df[outliers.any(axis=1)])"
   ]
  },
  {
   "cell_type": "code",
   "execution_count": 21,
   "metadata": {},
   "outputs": [],
   "source": [
    "# Исклюючаем выбросы\n",
    "df = df[(z_scores < 3).all(axis=1)]"
   ]
  },
  {
   "cell_type": "markdown",
   "metadata": {},
   "source": [
    "Используем ящик с усами для проверки выбросов после исключения"
   ]
  },
  {
   "cell_type": "code",
   "execution_count": 22,
   "metadata": {},
   "outputs": [
    {
     "data": {
      "image/png": "[encoded data removed]",
      "text/plain": [
       "<Figure size 720x432 with 1 Axes>"
      ]
     },
     "metadata": {
      "needs_background": "light"
     },
     "output_type": "display_data"
    }
   ],
   "source": [
    "# Построение графиков с усами для столбцов Work, Price, Salary\n",
    "plt.figure(figsize=(10, 6))\n",
    "\n",
    "# Построение боксплота для всех числовых столбцов\n",
    "sns.boxplot(data=df[['Work', 'Price', 'Salary']])\n",
    "\n",
    "# Показ графика\n",
    "plt.title('Ящики с усами для Work, Price, Salary')\n",
    "plt.show()"
   ]
  },
  {
   "cell_type": "markdown",
   "metadata": {},
   "source": [
    "В столбце work все равно присутвует выброс с максимальным значениям, которые выходит за пределеы \"усов\""
   ]
  },
  {
   "cell_type": "code",
   "execution_count": 8,
   "metadata": {},
   "outputs": [
    {
     "data": {
      "text/html": [
       "<div>\n",
       "<style scoped>\n",
       "    .dataframe tbody tr th:only-of-type {\n",
       "        vertical-align: middle;\n",
       "    }\n",
       "\n",
       "    .dataframe tbody tr th {\n",
       "        vertical-align: top;\n",
       "    }\n",
       "\n",
       "    .dataframe thead th {\n",
       "        text-align: right;\n",
       "    }\n",
       "</style>\n",
       "<table border=\"1\" class=\"dataframe\">\n",
       "  <thead>\n",
       "    <tr style=\"text-align: right;\">\n",
       "      <th></th>\n",
       "      <th>Work</th>\n",
       "      <th>Price</th>\n",
       "      <th>Salary</th>\n",
       "    </tr>\n",
       "  </thead>\n",
       "  <tbody>\n",
       "    <tr>\n",
       "      <th>count</th>\n",
       "      <td>48.000000</td>\n",
       "      <td>48.000000</td>\n",
       "      <td>48.000000</td>\n",
       "    </tr>\n",
       "    <tr>\n",
       "      <th>mean</th>\n",
       "      <td>1384.958333</td>\n",
       "      <td>68.860417</td>\n",
       "      <td>-378.727083</td>\n",
       "    </tr>\n",
       "    <tr>\n",
       "      <th>std</th>\n",
       "      <td>2404.897007</td>\n",
       "      <td>21.784659</td>\n",
       "      <td>2027.338052</td>\n",
       "    </tr>\n",
       "    <tr>\n",
       "      <th>min</th>\n",
       "      <td>-9999.000000</td>\n",
       "      <td>30.300000</td>\n",
       "      <td>-9999.000000</td>\n",
       "    </tr>\n",
       "    <tr>\n",
       "      <th>25%</th>\n",
       "      <td>1740.750000</td>\n",
       "      <td>49.650000</td>\n",
       "      <td>12.250000</td>\n",
       "    </tr>\n",
       "    <tr>\n",
       "      <th>50%</th>\n",
       "      <td>1834.500000</td>\n",
       "      <td>70.500000</td>\n",
       "      <td>40.300000</td>\n",
       "    </tr>\n",
       "    <tr>\n",
       "      <th>75%</th>\n",
       "      <td>1972.750000</td>\n",
       "      <td>81.700000</td>\n",
       "      <td>58.700000</td>\n",
       "    </tr>\n",
       "    <tr>\n",
       "      <th>max</th>\n",
       "      <td>2375.000000</td>\n",
       "      <td>115.500000</td>\n",
       "      <td>100.000000</td>\n",
       "    </tr>\n",
       "  </tbody>\n",
       "</table>\n",
       "</div>"
      ],
      "text/plain": [
       "              Work       Price       Salary\n",
       "count    48.000000   48.000000    48.000000\n",
       "mean   1384.958333   68.860417  -378.727083\n",
       "std    2404.897007   21.784659  2027.338052\n",
       "min   -9999.000000   30.300000 -9999.000000\n",
       "25%    1740.750000   49.650000    12.250000\n",
       "50%    1834.500000   70.500000    40.300000\n",
       "75%    1972.750000   81.700000    58.700000\n",
       "max    2375.000000  115.500000   100.000000"
      ]
     },
     "execution_count": 8,
     "metadata": {},
     "output_type": "execute_result"
    }
   ],
   "source": [
    "df.describe()"
   ]
  },
  {
   "cell_type": "code",
   "execution_count": 9,
   "metadata": {},
   "outputs": [],
   "source": [
    "df = df[df['Work'] != 2375]"
   ]
  },
  {
   "cell_type": "markdown",
   "metadata": {},
   "source": [
    "После того, как мы исключили выбросы проведем стандартизацию данных"
   ]
  },
  {
   "cell_type": "code",
   "execution_count": 10,
   "metadata": {},
   "outputs": [],
   "source": [
    "df.index = df.index.astype(str)"
   ]
  },
  {
   "cell_type": "code",
   "execution_count": 25,
   "metadata": {},
   "outputs": [],
   "source": [
    "from sklearn import preprocessing\n",
    "\n",
    "# Выбираем один из вариантов стандартизации\n",
    "stand_1 = preprocessing.StandardScaler()\n",
    "#stand_1 = preprocessing.MaxAbsScaler()\n",
    "\n",
    "# вычисляем параметры стандартизации (они сохраняются внутри объекта norm)\n",
    "stand_1.fit(df)\n",
    "# преобразуем данные\n",
    "X = stand_1.transform(df)\n",
    "# Получаем объект X -- матрицу класса numpy.ndarray.\n",
    "# Преобразуем её в объект класса pandas.DataFrame.\n",
    "X = pd.DataFrame(X, index=df.index, columns=df.columns)"
   ]
  },
  {
   "cell_type": "code",
   "execution_count": 26,
   "metadata": {},
   "outputs": [
    {
     "data": {
      "text/html": [
       "<div>\n",
       "<style scoped>\n",
       "    .dataframe tbody tr th:only-of-type {\n",
       "        vertical-align: middle;\n",
       "    }\n",
       "\n",
       "    .dataframe tbody tr th {\n",
       "        vertical-align: top;\n",
       "    }\n",
       "\n",
       "    .dataframe thead th {\n",
       "        text-align: right;\n",
       "    }\n",
       "</style>\n",
       "<table border=\"1\" class=\"dataframe\">\n",
       "  <thead>\n",
       "    <tr style=\"text-align: right;\">\n",
       "      <th></th>\n",
       "      <th>Work</th>\n",
       "      <th>Price</th>\n",
       "      <th>Salary</th>\n",
       "      <th>cluster</th>\n",
       "    </tr>\n",
       "    <tr>\n",
       "      <th>City</th>\n",
       "      <th></th>\n",
       "      <th></th>\n",
       "      <th></th>\n",
       "      <th></th>\n",
       "    </tr>\n",
       "  </thead>\n",
       "  <tbody>\n",
       "    <tr>\n",
       "      <th>Amsterdam</th>\n",
       "      <td>-0.983144</td>\n",
       "      <td>-0.217146</td>\n",
       "      <td>0.372285</td>\n",
       "      <td>1.156703</td>\n",
       "    </tr>\n",
       "    <tr>\n",
       "      <th>Athens</th>\n",
       "      <td>-0.488117</td>\n",
       "      <td>-0.769372</td>\n",
       "      <td>-0.380924</td>\n",
       "      <td>-0.884538</td>\n",
       "    </tr>\n",
       "    <tr>\n",
       "      <th>Bogota</th>\n",
       "      <td>1.796625</td>\n",
       "      <td>-1.513472</td>\n",
       "      <td>-1.146282</td>\n",
       "      <td>-1.905159</td>\n",
       "    </tr>\n",
       "    <tr>\n",
       "      <th>Bombay</th>\n",
       "      <td>1.161975</td>\n",
       "      <td>-1.869142</td>\n",
       "      <td>-1.397352</td>\n",
       "      <td>0.136083</td>\n",
       "    </tr>\n",
       "    <tr>\n",
       "      <th>Brussels</th>\n",
       "      <td>-1.021223</td>\n",
       "      <td>0.166604</td>\n",
       "      <td>0.433028</td>\n",
       "      <td>1.156703</td>\n",
       "    </tr>\n",
       "  </tbody>\n",
       "</table>\n",
       "</div>"
      ],
      "text/plain": [
       "               Work     Price    Salary   cluster\n",
       "City                                             \n",
       "Amsterdam -0.983144 -0.217146  0.372285  1.156703\n",
       "Athens    -0.488117 -0.769372 -0.380924 -0.884538\n",
       "Bogota     1.796625 -1.513472 -1.146282 -1.905159\n",
       "Bombay     1.161975 -1.869142 -1.397352  0.136083\n",
       "Brussels  -1.021223  0.166604  0.433028  1.156703"
      ]
     },
     "execution_count": 26,
     "metadata": {},
     "output_type": "execute_result"
    }
   ],
   "source": [
    "X.head()"
   ]
  },
  {
   "cell_type": "markdown",
   "metadata": {},
   "source": [
    "**Иерархический кластерный анализ**"
   ]
  },
  {
   "cell_type": "code",
   "execution_count": 13,
   "metadata": {},
   "outputs": [],
   "source": [
    "#  Активируем 3 процедуры иерархического кластерного анализа\n",
    "from scipy.cluster.hierarchy import dendrogram, linkage, fcluster"
   ]
  },
  {
   "cell_type": "code",
   "execution_count": 14,
   "metadata": {},
   "outputs": [
    {
     "data": {
      "text/plain": [
       "['Amsterdam',\n",
       " 'Athens',\n",
       " 'Bogota',\n",
       " 'Bombay',\n",
       " 'Brussels',\n",
       " 'Buenos_Aires',\n",
       " 'Cairo',\n",
       " 'Caracas',\n",
       " 'Chicago',\n",
       " 'Copenhagen',\n",
       " 'Dublin',\n",
       " 'Dusseldorf',\n",
       " 'Frankfurt',\n",
       " 'Geneva',\n",
       " 'Helsinki',\n",
       " 'Houston',\n",
       " 'Jakarta',\n",
       " 'Johannesburg',\n",
       " 'Kuala_Lumpur',\n",
       " 'Lagos',\n",
       " 'Lisbon',\n",
       " 'London',\n",
       " 'Los_Angeles',\n",
       " 'Luxembourg',\n",
       " 'Madrid',\n",
       " 'Manila',\n",
       " 'Mexico_City',\n",
       " 'Milan',\n",
       " 'Montreal',\n",
       " 'Nairobi',\n",
       " 'New_York',\n",
       " 'Nicosia',\n",
       " 'Oslo',\n",
       " 'Panama',\n",
       " 'Paris',\n",
       " 'Rio_de_Janeiro',\n",
       " 'San_Paulo',\n",
       " 'Seoul',\n",
       " 'Singpore',\n",
       " 'Stockholm',\n",
       " 'Sydney',\n",
       " 'Taipei',\n",
       " 'Tel_Aviv',\n",
       " 'Tokyo',\n",
       " 'Toronto',\n",
       " 'Vienna',\n",
       " 'Zurich']"
      ]
     },
     "execution_count": 14,
     "metadata": {},
     "output_type": "execute_result"
    }
   ],
   "source": [
    "X.index.tolist()"
   ]
  },
  {
   "cell_type": "code",
   "execution_count": 15,
   "metadata": {},
   "outputs": [
    {
     "data": {
      "image/png": "[encoded data removed]",
      "text/plain": [
       "<Figure size 1440x648 with 1 Axes>"
      ]
     },
     "metadata": {
      "needs_background": "light"
     },
     "output_type": "display_data"
    }
   ],
   "source": [
    "#  Кластеризуем и строим дендрограмму\n",
    "link = linkage(X, 'ward', 'euclidean')\n",
    "fig = plt.figure(figsize=(20,9))\n",
    "dn = dendrogram(link, labels= df.index.tolist())"
   ]
  },
  {
   "cell_type": "markdown",
   "metadata": {},
   "source": [
    "Так у нас получается 2 кластера. Но если мы поставим порогое значения равное 3.1, то у нас будет уже больше кластеров"
   ]
  },
  {
   "cell_type": "code",
   "execution_count": 16,
   "metadata": {},
   "outputs": [
    {
     "data": {
      "text/plain": [
       "Text(0, 0.5, 'Расстояние')"
      ]
     },
     "execution_count": 16,
     "metadata": {},
     "output_type": "execute_result"
    },
    {
     "data": {
      "image/png": "[encoded data removed]",
      "text/plain": [
       "<Figure size 432x288 with 1 Axes>"
      ]
     },
     "metadata": {
      "needs_background": "light"
     },
     "output_type": "display_data"
    }
   ],
   "source": [
    "dist = link[:, 2]\n",
    "dist_rev = dist[::-1]\n",
    "idxs = range(1, len(dist) + 1)\n",
    "plt.plot(idxs, dist_rev, marker='o')\n",
    "plt.title('Расстояние между объединяемыми кластерами')\n",
    "plt.xlabel('Шаг объединения')\n",
    "plt.ylabel('Расстояние')"
   ]
  },
  {
   "cell_type": "code",
   "execution_count": 17,
   "metadata": {},
   "outputs": [
    {
     "data": {
      "image/png": "[encoded data removed]",
      "text/plain": [
       "<Figure size 1440x648 with 1 Axes>"
      ]
     },
     "metadata": {
      "needs_background": "light"
     },
     "output_type": "display_data"
    }
   ],
   "source": [
    "fig = plt.figure(figsize=(20,9))\n",
    "dn = dendrogram(link, color_threshold = 3.1, labels=df.index.tolist())"
   ]
  },
  {
   "cell_type": "markdown",
   "metadata": {},
   "source": [
    "Здесь у нас значение кластеров уже 5. Добавим столбец с номером кластера и посмотрим распределения на графике."
   ]
  },
  {
   "cell_type": "code",
   "execution_count": 288,
   "metadata": {},
   "outputs": [],
   "source": [
    "df_1 = df.copy()\n",
    "df_2 = df.copy()"
   ]
  },
  {
   "cell_type": "code",
   "execution_count": 289,
   "metadata": {},
   "outputs": [],
   "source": [
    "df_1['cluster'] = fcluster(link, 2, criterion='maxclust')\n",
    "df_2['cluster'] = fcluster(link, 4, criterion='maxclust')"
   ]
  },
  {
   "cell_type": "code",
   "execution_count": 290,
   "metadata": {},
   "outputs": [
    {
     "name": "stderr",
     "output_type": "stream",
     "text": [
      "C:\\Users\\User\\AppData\\Local\\Temp\\ipykernel_10656\\3482072333.py:9: MatplotlibDeprecationWarning: Auto-removal of grids by pcolor() and pcolormesh() is deprecated since 3.5 and will be removed two minor releases later; please call grid(False) first.\n",
      "  plt.colorbar(label='Кластер')\n",
      "C:\\Users\\User\\AppData\\Local\\Temp\\ipykernel_10656\\3482072333.py:17: MatplotlibDeprecationWarning: Auto-removal of grids by pcolor() and pcolormesh() is deprecated since 3.5 and will be removed two minor releases later; please call grid(False) first.\n",
      "  plt.colorbar(label='Кластер')\n"
     ]
    },
    {
     "data": {
      "image/png": "[encoded data removed]",
      "text/plain": [
       "<Figure size 1440x432 with 4 Axes>"
      ]
     },
     "metadata": {
      "needs_background": "light"
     },
     "output_type": "display_data"
    }
   ],
   "source": [
    "plt.figure(figsize=(20, 6))\n",
    "\n",
    "# Первый график\n",
    "plt.subplot(1, 2, 1) \n",
    "plt.scatter(df_1['Work'], df_1['Salary'], c=df_1['cluster'], cmap='viridis')\n",
    "plt.xlabel('Work')\n",
    "plt.ylabel('Salary')\n",
    "plt.title('Распределение кластеров (df_1)')\n",
    "plt.colorbar(label='Кластер')\n",
    "\n",
    "# Второй график\n",
    "plt.subplot(1, 2, 2)  \n",
    "plt.scatter(df_2['Work'], df_2['Salary'], c=df_2['cluster'], cmap='plasma')\n",
    "plt.xlabel('Work')\n",
    "plt.ylabel('Salary')\n",
    "plt.title('Распределение кластеров (df_2)')\n",
    "plt.colorbar(label='Кластер')\n",
    "\n",
    "\n",
    "plt.tight_layout()\n",
    "plt.show()"
   ]
  },
  {
   "cell_type": "markdown",
   "metadata": {},
   "source": [
    "Как видно из графиков распределение правом графике лучше, так как унего почти нет пересечения \n",
    "На левом грифике есть переесечения "
   ]
  },
  {
   "cell_type": "code",
   "execution_count": null,
   "metadata": {},
   "outputs": [],
   "source": [
    "df_3 = df.copy()\n",
    "df_3['cluster'] = fcluster(link, 6, criterion='maxclust')"
   ]
  },
  {
   "cell_type": "code",
   "execution_count": null,
   "metadata": {},
   "outputs": [],
   "source": [
    "plt.figure(figsize=(20, 6))\n",
    "plt.scatter(df_3['Work'], df_3['Salary'], c=df_3['cluster'], cmap='plasma')\n",
    "plt.xlabel('Work')\n",
    "plt.ylabel('Salary')\n",
    "plt.title('Распределение кластеров (df_2)')\n",
    "plt.colorbar(label='Кластер')"
   ]
  },
  {
   "cell_type": "markdown",
   "metadata": {},
   "source": [
    "### Кластеризация"
   ]
  },
  {
   "cell_type": "code",
   "execution_count": 27,
   "metadata": {},
   "outputs": [
    {
     "data": {
      "image/png": "[encoded data removed]",
      "text/plain": [
       "<Figure size 432x288 with 1 Axes>"
      ]
     },
     "metadata": {
      "needs_background": "light"
     },
     "output_type": "display_data"
    }
   ],
   "source": [
    "K = range(1, 11)\n",
    "\n",
    "# Вычисляем значения критерия качества для разного числа кластеров\n",
    "models = [KMeans(n_clusters=k, random_state=42).fit(X) for k in K]\n",
    "dist = [model.inertia_ for model in models]\n",
    "\n",
    "# Строим график каменистая осыпь\n",
    "plt.plot(K, dist, marker='o')\n",
    "plt.xlabel('Число кластеров')\n",
    "plt.ylabel('Сумма квадратов расстояний')\n",
    "plt.title('Каменистая осыпь. Ищем оптимальное k')\n",
    "plt.show()"
   ]
  },
  {
   "cell_type": "code",
   "execution_count": 24,
   "metadata": {},
   "outputs": [
    {
     "data": {
      "text/html": [
       "<div>\n",
       "<style scoped>\n",
       "    .dataframe tbody tr th:only-of-type {\n",
       "        vertical-align: middle;\n",
       "    }\n",
       "\n",
       "    .dataframe tbody tr th {\n",
       "        vertical-align: top;\n",
       "    }\n",
       "\n",
       "    .dataframe thead th {\n",
       "        text-align: right;\n",
       "    }\n",
       "</style>\n",
       "<table border=\"1\" class=\"dataframe\">\n",
       "  <thead>\n",
       "    <tr style=\"text-align: right;\">\n",
       "      <th></th>\n",
       "      <th>Work</th>\n",
       "      <th>Price</th>\n",
       "      <th>Salary</th>\n",
       "    </tr>\n",
       "    <tr>\n",
       "      <th>cluster</th>\n",
       "      <th></th>\n",
       "      <th></th>\n",
       "      <th></th>\n",
       "    </tr>\n",
       "  </thead>\n",
       "  <tbody>\n",
       "    <tr>\n",
       "      <th>0</th>\n",
       "      <td>2183.000000</td>\n",
       "      <td>51.425000</td>\n",
       "      <td>14.975000</td>\n",
       "    </tr>\n",
       "    <tr>\n",
       "      <th>1</th>\n",
       "      <td>1830.923077</td>\n",
       "      <td>75.323077</td>\n",
       "      <td>47.830769</td>\n",
       "    </tr>\n",
       "    <tr>\n",
       "      <th>2</th>\n",
       "      <td>1996.769231</td>\n",
       "      <td>60.238462</td>\n",
       "      <td>27.715385</td>\n",
       "    </tr>\n",
       "    <tr>\n",
       "      <th>3</th>\n",
       "      <td>1707.266667</td>\n",
       "      <td>79.520000</td>\n",
       "      <td>49.953333</td>\n",
       "    </tr>\n",
       "  </tbody>\n",
       "</table>\n",
       "</div>"
      ],
      "text/plain": [
       "                Work      Price     Salary\n",
       "cluster                                   \n",
       "0        2183.000000  51.425000  14.975000\n",
       "1        1830.923077  75.323077  47.830769\n",
       "2        1996.769231  60.238462  27.715385\n",
       "3        1707.266667  79.520000  49.953333"
      ]
     },
     "execution_count": 24,
     "metadata": {},
     "output_type": "execute_result"
    }
   ],
   "source": [
    "# Строим модель\n",
    "model = KMeans(n_clusters=4, random_state=42, max_iter=300, n_init=10, verbose=0)\n",
    "model.fit(X)\n",
    "df['cluster'] = model.labels_\n",
    "df.groupby('cluster').mean()"
   ]
  },
  {
   "cell_type": "markdown",
   "metadata": {},
   "source": [
    "###  Кластеризация методом DBSCAN  "
   ]
  },
  {
   "cell_type": "code",
   "execution_count": 30,
   "metadata": {},
   "outputs": [],
   "source": [
    "eps_1 = [0.95, 1, 1.25, 1.5, 1.75, 2, 2.25, 2.5, 2.75, 3, 3.25, 3.5, 3.75, 4]\n",
    "min_samples_1 = [2, 3, 4, 5, 10, 15, 20, 25]"
   ]
  },
  {
   "cell_type": "code",
   "execution_count": 31,
   "metadata": {},
   "outputs": [],
   "source": [
    "sil_avg = []\n",
    "\n",
    "#  Для сохранения наилучшено набора параметров\n",
    "max_value = [0, 0, 0, -1]"
   ]
  },
  {
   "cell_type": "code",
   "execution_count": 32,
   "metadata": {},
   "outputs": [
    {
     "name": "stdout",
     "output_type": "stream",
     "text": [
      "epsilon= 1.5 \n",
      "min_sample= 2 \n",
      "number of clusters= 2 \n",
      "average silhouette score= 0.3359\n"
     ]
    }
   ],
   "source": [
    "#  Перебираю все пары значений параметров\n",
    "#  Сохраняю лучшее решение\n",
    "\n",
    "for i in range(len(eps_1)):\n",
    "    for j in range(len(min_samples_1)):\n",
    "\n",
    "        db = DBSCAN(min_samples = min_samples_1[j], eps =eps_1[i]).fit(X)\n",
    "        \n",
    "        labels = db.labels_\n",
    "\n",
    "        # Число кластеров, после отбрасывания выбросов.\n",
    "        n_clusters_ = len(set(labels)) - (1 if -1 in labels else 0)\n",
    "\n",
    "        # Число выбросов.\n",
    "        # n_noise_ = list(labels).count(-1)\n",
    "\n",
    "        if n_clusters_ > 1:\n",
    "            silhouette_avg = metrics.silhouette_score(df, labels)\n",
    "            if silhouette_avg > max_value[3]:\n",
    "                max_value=(eps_1[i], min_samples_1[j], n_clusters_, silhouette_avg)\n",
    "            sil_avg.append(silhouette_avg)\n",
    "\n",
    "print(\"epsilon=\", max_value[0], \n",
    "      \"\\nmin_sample=\", max_value[1],\n",
    "      \"\\nnumber of clusters=\", max_value[2],\n",
    "      \"\\naverage silhouette score= %.4f\" % max_value[3])"
   ]
  },
  {
   "cell_type": "code",
   "execution_count": 38,
   "metadata": {},
   "outputs": [
    {
     "name": "stdout",
     "output_type": "stream",
     "text": [
      "[[-1  1]\n",
      " [ 0 41]\n",
      " [ 1  3]]\n"
     ]
    }
   ],
   "source": [
    "# Запуск кластеризации с подобранными параметрами\n",
    "dbscan_4 = DBSCAN(eps=max_value[0], metric='euclidean', min_samples=max_value[1], algorithm= 'brute')\n",
    "\n",
    "dbscan_4.fit(X)\n",
    "\n",
    "unique, counts = np.unique(dbscan_4.labels_, return_counts=True)\n",
    "print(np.asarray((unique, counts)).T)"
   ]
  },
  {
   "cell_type": "code",
   "execution_count": 39,
   "metadata": {},
   "outputs": [
    {
     "name": "stdout",
     "output_type": "stream",
     "text": [
      "[[-1  1]\n",
      " [ 0 15]\n",
      " [ 1 22]\n",
      " [ 2  3]\n",
      " [ 3  4]]\n"
     ]
    }
   ],
   "source": [
    "# Попытка скорректировать\n",
    "dbscan_4 = DBSCAN(eps=1.4, metric='euclidean', min_samples=2)\n",
    "\n",
    "dbscan_4.fit(X)\n",
    "\n",
    "unique, counts = np.unique(dbscan_4.labels_, return_counts=True)\n",
    "print(np.asarray((unique, counts)).T)"
   ]
  }
 ],
 "metadata": {
  "kernelspec": {
   "display_name": "Python 3",
   "language": "python",
   "name": "python3"
  },
  "language_info": {
   "codemirror_mode": {
    "name": "ipython",
    "version": 3
   },
   "file_extension": ".py",
   "mimetype": "text/x-python",
   "name": "python",
   "nbconvert_exporter": "python",
   "pygments_lexer": "ipython3",
   "version": "3.10.2"
  }
 },
 "nbformat": 4,
 "nbformat_minor": 2
}
